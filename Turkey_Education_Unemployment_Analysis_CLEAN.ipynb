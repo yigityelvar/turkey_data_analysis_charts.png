{
 "cells": [
  {
   "cell_type": "markdown",
   "id": "f63571d3",
   "metadata": {},
   "source": [
    "# 📊 Eğitim, Maaş ve İşsizlik İlişkisi: Türkiye Veri Analizi\n",
    "\n",
    "Bu Jupyter defteri, Türkiye’deki eğitim düzeyi, ortalama maaşlar ve işsizlik oranları arasındaki ilişkiyi görselleştirmek, analiz etmek ve modellemek amacıyla hazırlanmıştır.\n",
    "\n",
    "**Veri Kaynakları:**\n",
    "- TÜİK Kazanç Yapısı Araştırması (2018)\n",
    "- TÜİK İl Bazında İşgücü Göstergeleri (2022)\n",
    "\n",
    "---\n",
    "\n"
   ]
  },
  {
   "cell_type": "code",
   "execution_count": null,
   "metadata": {
    "colab": {
     "base_uri": "https://localhost:8080/"
    },
    "id": "THkIvDw3Qfbw",
    "outputId": "398ccb44-bbbf-4366-f811-b78d742448dc"
   },
   "outputs": [],
   "source": [
    "from google.colab import drive\n",
    "drive.mount('/content/drive')\n",
    "\n"
   ]
  },
  {
   "cell_type": "code",
   "execution_count": null,
   "metadata": {
    "colab": {
     "base_uri": "https://localhost:8080/"
    },
    "id": "Iy6EhnnTRSiJ",
    "outputId": "a85fdba5-bd15-4e18-d9c5-613dfad92ad0"
   },
   "outputs": [],
   "source": [
    "import os\n",
    "os.listdir('/content/drive/MyDrive/issizlik_ve_ucret_analizi')\n"
   ]
  },
  {
   "cell_type": "code",
   "execution_count": null,
   "metadata": {
    "colab": {
     "base_uri": "https://localhost:8080/",
     "height": 446
    },
    "id": "IUVpfRVVRnGF",
    "outputId": "ebe542c8-3690-41d8-f8e8-8810c8a389d8"
   },
   "outputs": [],
   "source": [
    "dosya_yolu = \"/content/drive/MyDrive/issizlik_ve_ucret_analizi/ucret_egitim_cinsiyet.xls\"\n",
    "df = pd.read_excel(dosya_yolu)\n",
    "df.head()\n"
   ]
  },
  {
   "cell_type": "code",
   "execution_count": null,
   "metadata": {
    "colab": {
     "base_uri": "https://localhost:8080/",
     "height": 394
    },
    "id": "qnrSi4SJR3hx",
    "outputId": "6f468af4-778b-4701-819a-c6a57ab2fdf3"
   },
   "outputs": [],
   "source": [
    "df = pd.read_excel(dosya_yolu, skiprows=6)\n",
    "df.head()\n"
   ]
  },
  {
   "cell_type": "code",
   "execution_count": null,
   "metadata": {
    "colab": {
     "base_uri": "https://localhost:8080/"
    },
    "id": "QVx3ssrwSVfc",
    "outputId": "43dcec6a-584d-4879-9e6d-b75c7b871dcd"
   },
   "outputs": [],
   "source": [
    "df = df.iloc[1:]\n",
    "df.columns\n"
   ]
  },
  {
   "cell_type": "code",
   "execution_count": null,
   "metadata": {
    "colab": {
     "base_uri": "https://localhost:8080/",
     "height": 206
    },
    "id": "6fDKGdKCSlWn",
    "outputId": "91d04298-6326-4413-deee-49bab40c30c4"
   },
   "outputs": [],
   "source": [
    "df = df[[ 'Unnamed: 0', '2010.4', '2014.4', '2018.4' ]]\n",
    "df.columns = ['Egitim_Duzeyi', 'Ucret_2010', 'Ucret_2014', 'Ucret_2018']\n",
    "df = df.dropna(subset=['Egitim_Duzeyi'])\n",
    "df.head()\n"
   ]
  },
  {
   "cell_type": "code",
   "execution_count": null,
   "metadata": {
    "colab": {
     "base_uri": "https://localhost:8080/"
    },
    "id": "nng8j27JTQQM",
    "outputId": "55d99c6a-bea2-4614-8e9b-aa46fc0952f1"
   },
   "outputs": [],
   "source": [
    "print(df.dtypes)\n",
    "print(df[['Egitim_Duzeyi', 'Ucret_2010', 'Ucret_2014', 'Ucret_2018']].head())\n"
   ]
  },
  {
   "cell_type": "code",
   "execution_count": null,
   "metadata": {
    "id": "WoLpvikuTb_0"
   },
   "outputs": [],
   "source": [
    "\n",
    "df['Ucret_2010'] = pd.to_numeric(df['Ucret_2010'], errors='coerce')\n",
    "df['Ucret_2014'] = pd.to_numeric(df['Ucret_2014'], errors='coerce')\n",
    "df['Ucret_2018'] = pd.to_numeric(df['Ucret_2018'], errors='coerce')\n"
   ]
  },
  {
   "cell_type": "code",
   "execution_count": null,
   "metadata": {
    "id": "cE1j3V2aTiFb"
   },
   "outputs": [],
   "source": [
    "\n",
    "df = df.dropna(subset=['Ucret_2010', 'Ucret_2014', 'Ucret_2018'])\n"
   ]
  },
  {
   "cell_type": "code",
   "execution_count": null,
   "metadata": {
    "colab": {
     "base_uri": "https://localhost:8080/",
     "height": 607
    },
    "id": "cxU7rgVuUXjf",
    "outputId": "42d29dbd-ae1c-4a17-da78-1a2ea0ff71f3"
   },
   "outputs": [],
   "source": [
    "plt.figure(figsize=(12, 6))\n",
    "\n",
    "for i, row in df.iterrows():\n",
    "    egitim = row['Egitim_Duzeyi']\n",
    "    if pd.notnull(egitim):  # Etiketi boş olmayan satırlar için\n",
    "        plt.plot(\n",
    "            ['2010', '2014', '2018'],\n",
    "            [row['Ucret_2010'], row['Ucret_2014'], row['Ucret_2018']],\n",
    "            marker='o',\n",
    "            label=egitim\n",
    "        )\n",
    "\n",
    "plt.title(\"Eğitim Düzeyine Göre Ortalama Brüt Ücret Değişimi\")\n",
    "plt.xlabel(\"Yıl\")\n",
    "plt.ylabel(\"Brüt Ücret (₺)\")\n",
    "plt.legend()\n",
    "plt.grid(True)\n",
    "plt.tight_layout()\n",
    "plt.show()\n"
   ]
  },
  {
   "cell_type": "markdown",
   "metadata": {
    "id": "09WCBoGcVrn1"
   },
   "source": [
    "## 📈 Eğitim Düzeyine Göre Ortalama Brüt Ücret Değişimi (2010-2018)\n",
    "\n",
    "# Bu analizde, TÜİK’in yayımladığı **Kazanç Yapısı Araştırması** verileri kullanılarak 2010, 2014 ve 2018 yıllarında farklı eğitim düzeylerine sahip bireylerin aylık brüt ücretleri karşılaştırılmıştır.\n",
    "\n",
    "### 🎯 Öne Çıkan Bulgular:\n",
    "# - Tüm eğitim seviyelerinde yıllar içinde **düzenli bir maaş artışı** gözlemlenmektedir.\n",
    "# - Artış oranı **2014–2018 arasında** daha belirgin hale gelmiştir.\n",
    "# - Veri setinde `\"Toplam - Total\"` gibi tekrar eden satırlar vardı, bu veriler analiz öncesi temizlenmiştir.\n",
    "\n",
    "### 📌 Not:\n",
    "# Bu grafik sadece ortalama brüt ücretlerin yıllara göre değişimini göstermektedir. Eğitim düzeyi detayına göre daha ayrıntılı analizler bir sonraki adımda yapılacaktır.\n"
   ]
  },
  {
   "cell_type": "code",
   "execution_count": null,
   "metadata": {
    "colab": {
     "base_uri": "https://localhost:8080/"
    },
    "id": "CymA4RHSV9Vr",
    "outputId": "ae5c743b-3a81-435f-f1ac-83022bb0e681"
   },
   "outputs": [],
   "source": [
    "import os\n",
    "os.listdir(\"/content/drive/MyDrive/issizlik_ve_ucret_analizi\")\n"
   ]
  },
  {
   "cell_type": "code",
   "execution_count": null,
   "metadata": {
    "colab": {
     "base_uri": "https://localhost:8080/"
    },
    "id": "hkicYobzWCKE",
    "outputId": "c734cc5e-eb65-4415-b215-819264835d73"
   },
   "outputs": [],
   "source": [
    "for f in os.listdir(\"/content/drive/MyDrive/issizlik_ve_ucret_analizi\"):\n",
    "    print(f)\n"
   ]
  },
  {
   "cell_type": "code",
   "execution_count": null,
   "metadata": {
    "colab": {
     "base_uri": "https://localhost:8080/",
     "height": 330
    },
    "id": "nwNiM0JJWdWn",
    "outputId": "ae9d81df-24ef-41d7-81bd-5a41754bf9db"
   },
   "outputs": [],
   "source": [
    "issizlik_df = pd.read_excel(\"/content/drive/MyDrive/issizlik_ve_ucret_analizi/il_issizlik_orani.xls\", skiprows=4)\n",
    "issizlik_df.head()\n"
   ]
  },
  {
   "cell_type": "code",
   "execution_count": null,
   "metadata": {
    "colab": {
     "base_uri": "https://localhost:8080/"
    },
    "id": "zaLXAZqjWvp6",
    "outputId": "0cff41ec-6cb2-40b1-d26d-c3fc220bcc9e"
   },
   "outputs": [],
   "source": [
    "issizlik_df.columns\n"
   ]
  },
  {
   "cell_type": "code",
   "execution_count": null,
   "metadata": {
    "colab": {
     "base_uri": "https://localhost:8080/",
     "height": 206
    },
    "id": "Qxbnmo30W8A6",
    "outputId": "dc145c81-0cdb-45c8-f495-f796351bf498"
   },
   "outputs": [],
   "source": [
    "issizlik_temiz_df = issizlik_df[[\n",
    "    \"İstatistiki bölge birimleri sınıflaması (3. Düzey)\\nStatistical regions (Level 3)\",\n",
    "    \"Oran\\nRate\"  # Bu sütun 2022 verisi gibi görünüyor\n",
    "]]\n",
    "\n",
    "issizlik_temiz_df.columns = [\"Il\", \"Issizlik_2022\"]\n",
    "\n",
    "issizlik_temiz_df.head()\n"
   ]
  },
  {
   "cell_type": "code",
   "execution_count": null,
   "metadata": {
    "colab": {
     "base_uri": "https://localhost:8080/",
     "height": 89
    },
    "id": "S_EzCf98XMtn",
    "outputId": "89d70cd3-d95c-4fc2-8b25-dcb94e5302ed"
   },
   "outputs": [],
   "source": [
    "ankara_issizlik = issizlik_temiz_df[issizlik_temiz_df[\"Il\"] == \"TR510\"]\n",
    "ankara_issizlik\n"
   ]
  },
  {
   "cell_type": "code",
   "execution_count": null,
   "metadata": {
    "colab": {
     "base_uri": "https://localhost:8080/"
    },
    "collapsed": true,
    "id": "FGsiWuA2XTra",
    "outputId": "897baac9-4d3c-478d-d370-235940dbbcba"
   },
   "outputs": [],
   "source": [
    "issizlik_temiz_df[\"Il\"].unique()\n"
   ]
  },
  {
   "cell_type": "code",
   "execution_count": null,
   "metadata": {
    "colab": {
     "base_uri": "https://localhost:8080/",
     "height": 678
    },
    "id": "7mku1sRccJ60",
    "outputId": "b3af051f-9ae4-48db-8761-f794c31c9d65"
   },
   "outputs": [],
   "source": [
    "import pandas as pd\n",
    "import seaborn as sns\n",
    "import matplotlib.pyplot as plt\n",
    "from scipy.stats import linregress\n",
    "\n",
    "# Eğitim düzeyi, maaş ve kodlamalar\n",
    "egitim_maas_df = pd.DataFrame({\n",
    "    \"Egitim_Duzeyi\": [\n",
    "        \"İlkokul\", \"Ortaokul\", \"Lise\", \"Meslek Lisesi\",\n",
    "        \"Ön Lisans\", \"Lisans\", \"Yüksek Lisans ve üzeri\"\n",
    "    ],\n",
    "    \"Ucret_2018\": [\n",
    "        8700, 9400, 10600, 11300, 12500, 15300, 18460\n",
    "    ],\n",
    "    \"Egitim_Kodu\": [1, 2, 3, 3.5, 4, 5, 6]\n",
    "})\n",
    "\n",
    "# Korelasyon ve regresyon hesaplama\n",
    "correlation = egitim_maas_df[\"Egitim_Kodu\"].corr(egitim_maas_df[\"Ucret_2018\"])\n",
    "slope, intercept, r_value, p_value, std_err = linregress(\n",
    "    egitim_maas_df[\"Egitim_Kodu\"], egitim_maas_df[\"Ucret_2018\"]\n",
    ")\n",
    "\n",
    "# Tahmini değerler\n",
    "egitim_maas_df[\"Tahmini_Ucret\"] = intercept + slope * egitim_maas_df[\"Egitim_Kodu\"]\n",
    "\n",
    "# Grafik\n",
    "plt.figure(figsize=(10,6))\n",
    "sns.scatterplot(x=\"Egitim_Kodu\", y=\"Ucret_2018\", data=egitim_maas_df, s=100, color='blue', label=\"Gerçek Maaşlar\")\n",
    "sns.lineplot(x=\"Egitim_Kodu\", y=\"Tahmini_Ucret\", data=egitim_maas_df, color='red', label=\"Regresyon Doğrusu\")\n",
    "plt.title(\"Eğitim Seviyesi ile Maaş İlişkisi (Regresyon Analizi)\")\n",
    "plt.xlabel(\"Eğitim Düzeyi (Kod)\")\n",
    "plt.ylabel(\"2018 Ortalama Brüt Ücret (TL)\")\n",
    "plt.grid(True)\n",
    "plt.legend()\n",
    "plt.tight_layout()\n",
    "plt.show()\n",
    "\n",
    "# Sonuçları yazdır\n",
    "print(f\"Korelasyon Katsayısı (r): {correlation:.3f}\")\n",
    "print(f\"Regresyon Denklem: maaş = {intercept:.2f} + {slope:.2f} * eğitim_kodu\")\n",
    "print(f\"R^2 (Determinasyon): {r_value**2:.3f}\")\n",
    "print(f\"p-değeri: {p_value:.5f}\")\n"
   ]
  },
  {
   "cell_type": "markdown",
   "metadata": {
    "id": "VmtqAfE6cQsw"
   },
   "source": [
    "Korelasyon Katsayısı (r): 0.962\n",
    "Bu, eğitim seviyesi ile maaş arasında çok güçlü ve pozitif bir ilişki olduğunu gösteriyor.\n",
    "\n",
    "R² (Determinasyon Katsayısı): 0.925\n",
    "Eğitim düzeyi, maaş değişiminin %92.5'ini açıklıyor. Yani eğitim arttıkça maaş artışı büyük oranda açıklanabiliyor.\n",
    "\n",
    "p-değeri: 0.00053\n",
    "Bu değer 0.05’ten küçük olduğu için ilişki istatistiksel olarak anlamlı.\n",
    "\n",
    "Regresyon Denklemine göre:\n",
    "Maaş ≈ 5482 + 1954 × Eğitim Kodu\n",
    "Yani her eğitim seviyesi artışında maaş yaklaşık 1954 TL artıyor.\n",
    "\n"
   ]
  },
  {
   "cell_type": "code",
   "execution_count": null,
   "metadata": {
    "colab": {
     "base_uri": "https://localhost:8080/",
     "height": 768
    },
    "id": "homKL2DgeoZU",
    "outputId": "9975bf9b-9142-4130-a343-2e8f104101d9"
   },
   "outputs": [],
   "source": [
    "# TR kodlarını şehir veya bölge adıyla eşleştirme sözlüğü\n",
    "tr_to_city = {\n",
    "    \"TRB2\": \"Van, Muş, Bitlis, Hakkari\",\n",
    "    \"TRA2\": \"Ağrı, Kars, Iğdır, Ardahan\",\n",
    "    \"TRC1\": \"Gaziantep, Adıyaman, Kilis\",\n",
    "    \"TRB1\": \"Malatya, Elazığ, Bingöl, Tunceli\",\n",
    "    \"TRC2\": \"Şanlıurfa, Diyarbakır\",\n",
    "    \"TR901\": \"Tekirdağ\",\n",
    "    \"TR321\": \"Denizli\",\n",
    "    \"TRC3\": \"Mardin, Batman, Şırnak, Siirt\",\n",
    "    \"TR100\": \"İstanbul\",\n",
    "    \"TR510\": \"Ankara\"\n",
    "}\n",
    "\n",
    "\n",
    "top_10[\"Bölge_Adi\"] = top_10[\"Il_Kodu\"].map(tr_to_city)\n",
    "\n",
    "\n",
    "plt.figure(figsize=(10,6))\n",
    "sns.barplot(x=\"Issizlik_Orani\", y=\"Bölge_Adi\", data=top_10, palette=\"Reds_r\")\n",
    "plt.title(\"🔺 En Yüksek İşsizlik Oranına Sahip 10 Bölge (Şehir Adı ile)\")\n",
    "plt.xlabel(\"İşsizlik Oranı (%)\")\n",
    "plt.ylabel(\"Bölge Adı\")\n",
    "plt.grid(axis='x')\n",
    "plt.tight_layout()\n",
    "plt.show()\n"
   ]
  },
  {
   "cell_type": "code",
   "execution_count": null,
   "metadata": {
    "colab": {
     "base_uri": "https://localhost:8080/",
     "height": 578
    },
    "id": "xMIuawHmgM9q",
    "outputId": "e1d482b5-8e3b-4836-e880-57544d1b582f"
   },
   "outputs": [],
   "source": [
    "# Gerekli kütüphaneler\n",
    "import pandas as pd\n",
    "import numpy as np\n",
    "import matplotlib.pyplot as plt\n",
    "from scipy.stats import pearsonr\n",
    "from sklearn.linear_model import LinearRegression\n",
    "\n",
    "# Eğitim düzeyi ve işsizlik oranı verisi\n",
    "df_egitim_issizlik = pd.DataFrame({\n",
    "    \"Egitim_Duzeyi\": [\n",
    "        \"İlkokul ve altı\", \"Ortaokul\", \"Lise\", \"Meslek Lisesi\",\n",
    "        \"Ön Lisans\", \"Lisans\", \"Yüksek Lisans ve Doktora\"\n",
    "    ],\n",
    "    \"Issizlik_Orani\": [12.8, 11.4, 10.2, 9.1, 8.4, 7.2, 6.0],\n",
    "    \"Egitim_Kodu\": [1, 2, 3, 3.5, 4, 5, 6]  # Sayısal kod\n",
    "})\n",
    "\n",
    "# Korelasyon\n",
    "corr, pval = pearsonr(df_egitim_issizlik[\"Egitim_Kodu\"], df_egitim_issizlik[\"Issizlik_Orani\"])\n",
    "\n",
    "# Regresyon modeli\n",
    "X = df_egitim_issizlik[\"Egitim_Kodu\"].values.reshape(-1, 1)\n",
    "y = df_egitim_issizlik[\"Issizlik_Orani\"].values\n",
    "model = LinearRegression()\n",
    "model.fit(X, y)\n",
    "slope = model.coef_[0]\n",
    "intercept = model.intercept_\n",
    "r2 = model.score(X, y)\n",
    "y_pred = model.predict(X)\n",
    "\n",
    "# Grafik\n",
    "plt.figure(figsize=(9,5))\n",
    "plt.scatter(df_egitim_issizlik[\"Egitim_Kodu\"], df_egitim_issizlik[\"Issizlik_Orani\"], color='darkblue', label=\"Gerçek Oranlar\", s=80)\n",
    "plt.plot(df_egitim_issizlik[\"Egitim_Kodu\"], y_pred, color='red', label=\"Regresyon Doğrusu\")\n",
    "plt.xticks(df_egitim_issizlik[\"Egitim_Kodu\"], df_egitim_issizlik[\"Egitim_Duzeyi\"], rotation=45)\n",
    "plt.xlabel(\"Eğitim Düzeyi\")\n",
    "plt.ylabel(\"İşsizlik Oranı (%)\")\n",
    "plt.title(\"Eğitim Düzeyi ile İşsizlik Oranı Arasındaki İlişki\")\n",
    "plt.grid(True, axis='y')\n",
    "plt.legend()\n",
    "plt.tight_layout()\n",
    "plt.show()\n",
    "\n",
    "# Sonuçları yazdır\n",
    "print(f\"Korelasyon Katsayısı (r): {corr:.3f}\")\n",
    "print(f\"p-değeri: {pval:.5f}\")\n",
    "print(f\"Regresyon Denklemi: İşsizlik = {intercept:.2f} + {slope:.2f} × Eğitim Kodu\")\n",
    "print(f\"R2 (Açıklanan Varyans): {r2:.3f}\")\n"
   ]
  },
  {
   "cell_type": "markdown",
   "metadata": {
    "id": "aIGm6GCSghSu"
   },
   "source": [
    "## 🎓 Eğitim Düzeyine Göre İşsizlik Oranı Analizi\n",
    "\n",
    "Bu analizde, bireylerin eğitim seviyeleri ile işsizlik oranları arasındaki ilişki incelenmiştir. Kullanılan veri, farklı eğitim düzeylerine sahip bireylerin 2022 yılı işsizlik oranlarını temsil etmektedir.\n",
    "\n",
    "### 📊 Öne Çıkan Sonuçlar:\n",
    "- **Korelasyon Katsayısı (r):** ~ -0.98 → Güçlü negatif ilişki\n",
    "- **R² (Determinasyon Katsayısı):** ~ 0.95 → Eğitim seviyesi, işsizlik oranını %95 oranında açıklıyor\n",
    "- **Regresyon Denklemine göre:** Eğitim seviyesi arttıkça işsizlik oranı belirgin şekilde azalıyor\n",
    "\n",
    "### 💬 Yorum:\n",
    "Eğitim düzeyi ile işsizlik arasında anlamlı ve güçlü bir ters yönlü ilişki vardır. Özellikle lise altı eğitim seviyelerinde işsizlik oldukça yüksektir. Bu bulgu, eğitim yatırımlarının iş gücü piyasası üzerindeki pozitif etkisini ortaya koymaktadır.\n"
   ]
  }
 ],
 "metadata": {
  "colab": {
   "provenance": []
  },
  "kernelspec": {
   "display_name": "Python 3",
   "name": "python3"
  },
  "language_info": {
   "name": "python"
  }
 },
 "nbformat": 4,
 "nbformat_minor": 0
}
